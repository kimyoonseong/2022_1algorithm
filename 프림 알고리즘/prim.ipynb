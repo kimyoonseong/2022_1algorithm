{
  "nbformat": 4,
  "nbformat_minor": 0,
  "metadata": {
    "colab": {
      "name": "prim.ipynb",
      "provenance": []
    },
    "kernelspec": {
      "name": "python3",
      "display_name": "Python 3"
    },
    "language_info": {
      "name": "python"
    }
  },
  "cells": [
    {
      "cell_type": "markdown",
      "source": [
        "Source: https://bradfieldcs.com/algos/graphs/prims-spanning-tree-algorithm/"
      ],
      "metadata": {
        "id": "mJNgdRWXGbu6"
      }
    },
    {
      "cell_type": "code",
      "execution_count": 19,
      "metadata": {
        "id": "j1NY_e76RAL3"
      },
      "outputs": [],
      "source": [
        "from collections import defaultdict\n",
        "import heapq    # heapq 모듈 사용: https://docs.python.org/3/library/heapq.html\n",
        "DEBUG = True    # debug 용 출력시 사용\n",
        "\n",
        "def create_spanning_tree(graph, starting_vertex):\n",
        "    mst = defaultdict(set)  # 딕셔너리 타입으로 mst 정의\n",
        "    visited = set([starting_vertex])  # 방문한 정점들을 집합으로 표시\n",
        "    if DEBUG:\n",
        "      print(\"Set with starting vertex: \", visited)  \n",
        "\n",
        "    edges = [               # mst에 추가할 edge 리스트\n",
        "        (cost, starting_vertex, to)   # 리스트의 item은 tuple로 정의 \n",
        "        for to, cost in graph[starting_vertex].items()  # 딕셔너리 타입의 인접 리스트 사용\n",
        "    ]  \n",
        "    heapq.heapify(edges)    # heapify 함수를 이용해 우선순위 큐로 바꿈 (즉, min-heap)\n",
        "\n",
        "    if DEBUG:\n",
        "      print(\"Starting edges: \", edges)      \n",
        "\n",
        "    while edges:\n",
        "        cost, frm, to = heapq.heappop(edges)   # heap에서 최소 간선 추출\n",
        "        if to not in visited:\n",
        "            visited.add(to)     # 새로 추가된 간선의 end vertex를 방문한 정점 집합에 추가\n",
        "            mst[frm].add(to)    # mst에 end vertex 추가\n",
        "            for to_next, cost in graph[to].items(): # 새로 추가된 정점의 이웃 정점 확인\n",
        "                if to_next not in visited:  # 이웃 정점이 아직 방문하지 않았으면\n",
        "                    heapq.heappush(edges, (cost, to, to_next))  # 우선순위 큐에 추가\n",
        "\n",
        "    if DEBUG:\n",
        "      print(\"Visited: \", visited)  \n",
        "    return mst"
      ]
    },
    {
      "cell_type": "code",
      "source": [
        "example_graph = {\n",
        "    'A': {'B': 2, 'C': 3},\n",
        "    'B': {'A': 2, 'C': 1, 'D': 1, 'E': 4},\n",
        "    'C': {'A': 3, 'B': 1, 'F': 5},\n",
        "    'D': {'B': 1, 'E': 1},\n",
        "    'E': {'B': 4, 'D': 1, 'F': 1},\n",
        "    'F': {'C': 5, 'E': 1, 'G': 1},\n",
        "    'G': {'F': 1},\n",
        "}\n",
        "\n",
        "dict(create_spanning_tree(example_graph, 'A'))"
      ],
      "metadata": {
        "colab": {
          "base_uri": "https://localhost:8080/"
        },
        "id": "xGooKeq_RDX-",
        "outputId": "18d089e6-91c4-4282-c2c0-eb116e5dc598"
      },
      "execution_count": 20,
      "outputs": [
        {
          "output_type": "stream",
          "name": "stdout",
          "text": [
            "Set with starting vertex:  {'A'}\n",
            "Starting edges:  [(2, 'A', 'B'), (3, 'A', 'C')]\n",
            "Visited:  {'C', 'E', 'B', 'F', 'A', 'D', 'G'}\n"
          ]
        },
        {
          "output_type": "execute_result",
          "data": {
            "text/plain": [
              "{'A': {'B'}, 'B': {'C', 'D'}, 'D': {'E'}, 'E': {'F'}, 'F': {'G'}}"
            ]
          },
          "metadata": {},
          "execution_count": 20
        }
      ]
    }
  ]
}