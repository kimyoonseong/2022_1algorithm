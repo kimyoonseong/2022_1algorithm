{
  "nbformat": 4,
  "nbformat_minor": 0,
  "metadata": {
    "colab": {
      "name": "hashOpenAddressing.ipynb",
      "provenance": []
    },
    "kernelspec": {
      "name": "python3",
      "display_name": "Python 3"
    },
    "language_info": {
      "name": "python"
    }
  },
  "cells": [
    {
      "cell_type": "code",
      "execution_count": 16,
      "metadata": {
        "id": "G-z1H0Kfch5Y"
      },
      "outputs": [],
      "source": [
        "class HashOpenAddressed:\n",
        "    def __init__(self, n:int):\n",
        "        self.__table = [None for i in range(n)]\n",
        "        self.__numItems = 0\n",
        "        self.__DELETED = -54321\n",
        "\n",
        "    def __hash(self, i:int, x):\n",
        "        return (x + i) % len(self.__table)\n",
        " \n",
        "    def insert(self, x):\n",
        "        if self.__numItems == len(self.__table):\n",
        "            print(\"Hash table is full!\")\n",
        "        else:\n",
        "            for i in range(len(self.__table)):\n",
        "                slot = self.__hash(i, x)\n",
        "                if self.__table[slot] == None or self.__table[slot] == self.__DELETED:\n",
        "                    self.__table[slot] = x\n",
        "                    self.__numItems += 1\n",
        "                    break\n",
        "\n",
        "    NOT_FOUND = -12345  # constant\n",
        "    def search(self, x) -> int:\n",
        "        for i in range(len(self.__table)):\n",
        "            slot = self.__hash(i, x)\n",
        "            if self.__table[slot] == None:\n",
        "                return HashOpenAddressed.NOT_FOUND\n",
        "            if self.__table[slot] == x:\n",
        "                return slot  # Found at self.__table[slot]\n",
        "        return self.__NOT_FOUND\n",
        "\n",
        "    def delete(self, x):\n",
        "        for i in range(len(self.__table)):\n",
        "            slot = self.__hash(i, x)\n",
        "            if self.__table[slot] == None:\n",
        "                break\n",
        "            if self.__table[slot] == x:\n",
        "                self.__table[slot] = self.__DELETED;\n",
        "                self.__numItems -= 1\n",
        "                break\n",
        "\n",
        "    def print_table(self):\n",
        "        for i in range(len(self.__table)):\n",
        "            if self.__table[i] != None and self.__table[i] != self.__DELETED:\n",
        "                print(i, \":\", self.__table[i])\n",
        "            else:\n",
        "                print(i, \":\", \"None\")      \n",
        "        print()      \n",
        "\n",
        "# 코드 12-3\n"
      ]
    },
    {
      "cell_type": "code",
      "source": [
        "h = HashOpenAddressed(11)\n",
        "h.insert(16)\n",
        "h.insert(21)\n",
        "h.insert(10)\n",
        "h.insert(5)\n",
        "h.insert(11)\n",
        "\n",
        "h.print_table()\n",
        "\n",
        "h.delete(11)\n",
        "h.print_table()\n",
        "\n",
        "item = 21\n",
        "slot = h.search(item)\n",
        "if slot == None or slot < 0:\n",
        "    print(\"Search Failed for\", item)\n",
        "else:\n",
        "    print(\"Search for\", item, \"successful at slot\", slot)\n",
        "\n",
        "\n"
      ],
      "metadata": {
        "colab": {
          "base_uri": "https://localhost:8080/"
        },
        "id": "bH6sutDYcm2K",
        "outputId": "a24d933e-df81-4d1d-e95f-00f0ccfb1c5d"
      },
      "execution_count": 25,
      "outputs": [
        {
          "output_type": "stream",
          "name": "stdout",
          "text": [
            "0 : 10\n",
            "1 : 11\n",
            "2 : None\n",
            "3 : None\n",
            "4 : None\n",
            "5 : 16\n",
            "6 : 5\n",
            "7 : None\n",
            "8 : None\n",
            "9 : None\n",
            "10 : 21\n",
            "\n",
            "0 : 10\n",
            "1 : None\n",
            "2 : None\n",
            "3 : None\n",
            "4 : None\n",
            "5 : 16\n",
            "6 : 5\n",
            "7 : None\n",
            "8 : None\n",
            "9 : None\n",
            "10 : 21\n",
            "\n",
            "Search for 21 successful at slot 10\n"
          ]
        }
      ]
    }
  ]
}