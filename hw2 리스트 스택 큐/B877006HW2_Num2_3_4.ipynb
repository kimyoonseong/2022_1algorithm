{
  "nbformat": 4,
  "nbformat_minor": 0,
  "metadata": {
    "colab": {
      "name": "B877006HW2_Num2_3_4.ipynb",
      "provenance": [],
      "collapsed_sections": []
    },
    "kernelspec": {
      "name": "python3",
      "display_name": "Python 3"
    },
    "language_info": {
      "name": "python"
    }
  },
  "cells": [
    {
      "cell_type": "code",
      "execution_count": 223,
      "metadata": {
        "id": "OkZWwRHker1Q"
      },
      "outputs": [],
      "source": [
        "#2번 문제\n",
        "class BidirectNode:\n",
        "    def __init__(self, x, prevNode:'BidirectNode', nextNode:'BidirectNode'):\n",
        "        self.item = x\n",
        "        self.prev = prevNode\n",
        "        self.next = nextNode\n",
        "        \n",
        "# 코드 5-24\n",
        "\n",
        "class CircularDoublyLinkedList:\n",
        "\tdef __init__(self):\n",
        "\t\tself.__head = BidirectNode(\"dummy\", None, None)\n",
        "\t\tself.__head.prev = self.__head\n",
        "\t\tself.__head.next = self.__head\n",
        "\t\tself.__numItems = 0\n",
        "\n",
        "\n",
        "\tdef add(self,x)->None:\n",
        "\t\tprev=self.__head\n",
        "\t\tcurr=prev.next#처음부터 끝인덱스 까지 비교하면서 정렬\n",
        "\t\tif self.isEmpty():\n",
        "\t\t\tnewNode = BidirectNode(x, self.__head, self.__head)\n",
        "\t\t\tself.__head.next=newNode\n",
        "\t\t\tself.__head.prev=newNode\n",
        "\t\t\tself.__numItems += 1\n",
        "\t\telse:\n",
        "\t\t\t\n",
        "\t\t\tfor index in range(self.__numItems):\n",
        "\t\t\t\tif(curr.next==self.__head and x>curr.item): #add에 받는 item이 curritem보다 큼과동시에 다음 노드가 헤드일때\n",
        "\t\t\t\t\tnewNode=BidirectNode(x, curr, self.__head)# prev값은curr값 next값은 원형이므로 head\n",
        "\t\t\t\t\tself.__head.prev=newNode\n",
        "\t\t\t\t\tcurr.next=newNode\n",
        "\t\t\t\t\tself.__numItems += 1\n",
        "\t\t\t\t\treturn\n",
        "\t\t\t\telif (x>=curr.item and x<curr.next.item):# add에 받는 아이템이 curr아이템보단큰 동시에 다음 노드의 아이템보단 작을때\n",
        "\t\t\t\t\tnewNode=BidirectNode(x, curr, curr.next)\n",
        "\t\t\t\t\tnewNode.next.prev=newNode\n",
        "\t\t\t\t\tnewNode.prev.next=newNode\n",
        "\t\t\t\t\tself.__numItems += 1\n",
        "\t\t\t\t\treturn\n",
        "\t\t\t\telif(x<curr.item):#add에 받는 아이템이 curr아이템보단 작을때\n",
        "\t\t\t\t\tnewNode=BidirectNode(x, prev, prev.next)\n",
        "\t\t\t\t\tnewNode.next.prev=newNode\n",
        "\t\t\t\t\tnewNode.prev.next=newNode\n",
        "\t\t\t\t\tself.__numItems += 1\n",
        "\t\t\t\t\treturn \n",
        "\t\t\t\tcurr=curr.next #다음 노드를 검사하기위해 다음노드를curr로 지정\n",
        "\n",
        "\n",
        "\tdef isEmpty(self) -> bool:\n",
        "\t\treturn self.__numItems == 0\n",
        " \n",
        "\n",
        "\n",
        "\tdef getNode(self, i:int) -> BidirectNode:\n",
        "\t\tcurr = self.__head  # 더미 헤드, index: -1\n",
        "\t\tfor index in range(i + 1):\n",
        "\t\t\tcurr = curr.next\n",
        "\t\treturn curr\n",
        "    \n",
        "\tdef printList(self) -> None:\n",
        "\t\tfor element in self:\n",
        "\t\t\tprint(element, end = ' ')\n",
        "\t\tprint()\n",
        " \n",
        "\tdef __iter__(self):  # generating iterator and return\n",
        "\t\treturn CircularDoublyLinkedListIterator(self)\n",
        " \n",
        "class CircularDoublyLinkedListIterator:\n",
        "\tdef __init__(self, alist):\n",
        "\t\tself.__head = alist.getNode(-1)  \t\t# 더미 헤드\n",
        "\t\tself.iterPosition = self.__head.next  \t# 0번 노드\n",
        "\tdef __next__(self):\n",
        "\t\tif self.iterPosition == self.__head: \t# 순환 끝\n",
        "\t\t\traise StopIteration\n",
        "\t\telse: # 현재 원소를 리턴하면서 다음 원소로 이동\n",
        "\t\t\titem = self.iterPosition.item\n",
        "\t\t\tself.iterPosition = self.iterPosition.next\n",
        "\t\t\treturn item\n",
        "\n",
        "# 코드 5-25"
      ]
    },
    {
      "cell_type": "code",
      "source": [
        "a=CircularDoublyLinkedList()\n",
        "a.add(10)\n",
        "a.add(2)\n",
        "a.add(5)\n",
        "\n",
        "a.add(15)\n",
        "\n",
        "a.add(30)\n",
        "a.add(1)\n",
        "a.add(100)\n",
        "a.printList()"
      ],
      "metadata": {
        "id": "8c3bIlCMqYa2",
        "colab": {
          "base_uri": "https://localhost:8080/"
        },
        "outputId": "685a4f6e-5136-454f-c3f2-96e49460584d"
      },
      "execution_count": 225,
      "outputs": [
        {
          "output_type": "stream",
          "name": "stdout",
          "text": [
            "1 2 5 10 15 30 100 \n"
          ]
        }
      ]
    },
    {
      "cell_type": "code",
      "source": [
        "#3번 문제\n",
        "\n",
        "class ListStack:\n",
        "\tdef __init__(self):\n",
        "\t\tself.__stack = []\n",
        "\n",
        "\tdef push(self, x):\n",
        "\t\tself.__stack.append(x)\n",
        "\n",
        "\tdef pop(self):\n",
        "\t\treturn self.__stack.pop()\n",
        "\n",
        "\tdef top(self):\n",
        "\t\tif self.isEmpty():\n",
        "\t\t\treturn None\n",
        "\t\telse:\n",
        "\t\t\treturn self.__stack[-1]\n",
        "\n",
        "\tdef isEmpty(self) -> bool:\n",
        "\t\treturn not bool(self.__stack)\n",
        "\n",
        "\tdef popAll(self):\n",
        "\t\tself.__stack.clear() \n",
        "\n",
        "\tdef printStack(self):\n",
        "\t\tprint(\"Stack from top:\", end = ' ')\n",
        "\t\tfor i in range(len(self.__stack)-1, -1, -1):#len (self)-1은 numitem이라보면됨(부터,0 까지,거꾸로)\n",
        "\t\t\tprint(self.__stack[i], end = ' ')\n",
        "\t\tprint()\n",
        "\t\n",
        "\n",
        "def parenBalance(s:str)->bool:\n",
        "\t\tA=ListStack()\n",
        "\t\tfor i in s:\n",
        "\t\t\tif(i=='('):#여는괄호는 스택에 저장한다\n",
        "\t\t\t\tA.push(i)\n",
        "\t\t\telif (i==')'):# 닫는괄호를 만나면 여는괄호와 쌍임으로 여는괄호를 pop한다.\n",
        "\t\t\t\tif(A.isEmpty()==True):# 여는괄호보다 닫는괄호가 더 연속해서 나와 pop할 \"여는괄호\"가 없으면 틀리다. or 첫번째부터 닫는괄호가 나왔을경우\n",
        "\t\t\t\t\treturn False\n",
        "\t\t\t\tA.pop()\n",
        "\t\tif(A.isEmpty()==True):# 닫는괄호\n",
        "\t\t\treturn True\n",
        "\t\telse:\n",
        "\t\t\treturn False"
      ],
      "metadata": {
        "id": "lXmafYmCxTOo"
      },
      "execution_count": null,
      "outputs": []
    },
    {
      "cell_type": "code",
      "source": [
        "print(parenBalance('(()()())'))\n",
        "print(parenBalance('((()))(())'))\n",
        "print(parenBalance(')(()()())('))\n",
        "print(parenBalance('())()()()('))\n",
        "print(parenBalance(')()(())(()'))"
      ],
      "metadata": {
        "colab": {
          "base_uri": "https://localhost:8080/"
        },
        "id": "VTjiOZi80KGo",
        "outputId": "68aeea6d-5efc-43c3-c06f-183500b9b5a8"
      },
      "execution_count": null,
      "outputs": [
        {
          "output_type": "stream",
          "name": "stdout",
          "text": [
            "True\n",
            "True\n",
            "False\n",
            "False\n",
            "False\n"
          ]
        }
      ]
    },
    {
      "cell_type": "code",
      "source": [
        "#4번 문제\n",
        "class ListQueue:\n",
        "\tdef __init__(self):\n",
        "\t\tself.__queue = []\n",
        "\t\t\n",
        "\n",
        "\tdef enqueueRear(self, x):\n",
        "\t\tself.__queue.append(x)\n",
        "\t\t\n",
        "\n",
        "\tdef enqueuefront(self, x):\n",
        "\t\t\n",
        "\t\tA=ListQueue()\n",
        "\t\tA.enqueueRear(x)\n",
        "\t\tfor index in range(len(self.__queue)):\n",
        "\t\t\tA.enqueueRear(self.__queue[index]) # A큐에다가 복사하는작업\n",
        "\t\tself.dequeueAll()\n",
        "\t\tfor i in range(len(A.__queue)): \n",
        "\t\t\tself.enqueueRear(A.__queue[i])#다시self에 복사.\n",
        "\t\t\t\n",
        "\t\t\n",
        "\t\t\n",
        "\tdef dequeueFront(self):\n",
        "\t\treturn self.__queue.pop(0) # .pop(0): 리스트의 첫 원소를 삭제한 후 원소 리턴\n",
        "\t\tself.numItems-=1\n",
        "\tdef dequeueRear(self):\n",
        "\t\treturn self.__queue.pop() # .pop(0): 리스트의 마지막 원소를 삭제한 후 원소 리턴\n",
        "\t\tself.numItems-=1\n",
        "\tdef front(self):\n",
        "\t\tif self.isEmpty():\n",
        "\t\t\treturn None\n",
        "\t\telse:\n",
        "\t\t\treturn self.__queue[0]\n",
        "\n",
        "\tdef isEmpty(self) -> bool:\n",
        "\t\treturn (len(self.__queue) == 0);\n",
        " \n",
        "\tdef dequeueAll(self):\n",
        "\t\tself.__queue.clear()\n",
        "\t\t\n",
        "\n",
        "\tdef printQueue(self):\n",
        "\t\tprint(\"Queue from front:\", end = ' ')\n",
        "\t\tfor i in range(len(self.__queue)):\n",
        "\t\t\tprint(self.__queue[i], end = ' ')\n",
        "\t\tprint()\n"
      ],
      "metadata": {
        "id": "1BzFaVCrgtPG"
      },
      "execution_count": null,
      "outputs": []
    },
    {
      "cell_type": "code",
      "source": [
        "Q=ListQueue()\n",
        "Q.enqueueRear(\"Mon\")\n",
        "Q.enqueueRear(\"Tue\")\n",
        "Q.enqueueRear(1234)\n",
        "Q.enqueuefront(\"kys\")\n",
        "Q.enqueueRear(\"Wed\")\n",
        "Q.enqueueRear(\"1\")\n",
        "Q.enqueuefront(\"B877006\")\n",
        "Q.printQueue()\n",
        "Q.dequeueFront()\n",
        "Q.printQueue()\n",
        "Q.dequeueRear()\n",
        "Q.printQueue()\n",
        "Q.enqueuefront(\"April\")\n",
        "Q.enqueueRear(\"algorithm\")\n",
        "Q.printQueue()\n"
      ],
      "metadata": {
        "colab": {
          "base_uri": "https://localhost:8080/"
        },
        "id": "dJS3Gc6jgxig",
        "outputId": "74a944e7-1a0c-4ed6-8da1-113910a8fab2"
      },
      "execution_count": null,
      "outputs": [
        {
          "output_type": "stream",
          "name": "stdout",
          "text": [
            "Queue from front: B877006 kys Mon Tue 1234 Wed 1 \n",
            "Queue from front: kys Mon Tue 1234 Wed 1 \n",
            "Queue from front: kys Mon Tue 1234 Wed \n",
            "Queue from front: April kys Mon Tue 1234 Wed algorithm \n"
          ]
        }
      ]
    }
  ]
}