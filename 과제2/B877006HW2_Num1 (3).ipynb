{
  "nbformat": 4,
  "nbformat_minor": 0,
  "metadata": {
    "colab": {
      "name": "B877006HW2_Num1.ipynb",
      "provenance": [],
      "collapsed_sections": []
    },
    "kernelspec": {
      "name": "python3",
      "display_name": "Python 3"
    },
    "language_info": {
      "name": "python"
    }
  },
  "cells": [
    {
      "cell_type": "code",
      "execution_count": null,
      "metadata": {
        "id": "5P0FFQeYBRw8"
      },
      "outputs": [],
      "source": [
        "class ListNode:\n",
        "\tdef __init__(self, newItem, nextNode:'ListNode'):\n",
        "\t\tself.item = newItem\n",
        "\t\tself.next = nextNode\n",
        "\n",
        "class LinkedListBasic:\n",
        "\tdef __init__(self):\n",
        "\t\tself.__head = ListNode('dummy', None)\n",
        "\t\tself.__numItems = 0\n",
        "\n",
        "\t# [알고리즘 5 - 2] 구현: 연결 리스트에 원소 삽입하기(더미 헤드를 두는 대표 버전)\n",
        "\tdef insert(self, i:int, newItem):\n",
        "\t\tif i >= 0 and i <= self.__numItems:\n",
        "\t\t\tprev = self.__getNode(i - 1)\n",
        "\t\t\tnewNode = ListNode(newItem, prev.next)\n",
        "\t\t\tprev.next = newNode\n",
        "\t\t\tself.__numItems += 1\n",
        "\t\telse:\n",
        "\t\t\tprint(\"index\", i, \": out of bound in insert()\") # 필요 시 에러 처리\n",
        " \n",
        "\tdef append(self, newItem):\n",
        "\t\tprev = self.__getNode(self.__numItems - 1)\n",
        "\t\tnewNode = ListNode(newItem, prev.next)\n",
        "\t\tprev.next = newNode\n",
        "\t\tself.__numItems += 1\n",
        "\n",
        "\t# [알고리즘 5-3] 구현: 연결 리스트의 원소 삭제하기\n",
        "\tdef pop(self, i:int, k:int):   # i번 노드 삭제. 고정 파라미터\n",
        "\t\tif (i >= 0 and i <= self.__numItems-1):\n",
        "\t\t\tprev = self.__getNode(i - 1)\n",
        "\t\t\tcurr = prev.next\n",
        "\t\t\tfor index in range(k):\n",
        "\t\t\t\tprev.next = curr.next\n",
        "\t\t\t\tretItem = curr.item\n",
        "\t\t\t\tself.__numItems -= 1\t\n",
        "\t\t\t\tcurr=curr.next# curr노드를 cur.next로 바꿔줌으로써,다음루프때도 유효하게한다.\n",
        "\t\t\treturn retItem\n",
        "      \n",
        "\t\telse:\n",
        "\t\t\treturn None\n",
        "\t\n",
        "\n",
        "\t# [알고리즘 5 -8] 구현: 기타 작업들\n",
        "\tdef isEmpty(self) -> bool:\n",
        "\t\treturn self.__numItems == 0\n",
        "\tdef size(self) -> int:\n",
        "\t\treturn self.__numItems\n",
        "\n",
        "\n",
        "\t# [알고리즘 5-6] 구현: 연결 리스트의 i번 노드 알려주기\n",
        "\tdef __getNode(self, i:int) -> ListNode:\n",
        "\t\tcurr = self.__head # 더미 헤드, index: -1\n",
        "\t\tfor index in range(i+1):\n",
        "\t\t\tcurr = curr.next\n",
        "\t\treturn curr\n",
        "\n",
        "\tdef printList(self):\n",
        "\t\tcurr = self.__head.next # 0번 노드: 더미 헤드 다음 노드\n",
        "\t\twhile curr != None:\n",
        "\t\t\tprint(curr.item, end = ' ')\n",
        "\t\t\tcurr = curr.next\n",
        "\t\tprint()\n",
        "\t\n",
        "\t\n",
        " "
      ]
    },
    {
      "cell_type": "markdown",
      "source": [
        "for루프를 돌리면서 k번 pop작업을 한다.\n",
        "\n",
        "36번 줄 curr=curr.next# curr노드를 cur.next로 바꿔줌으로써,다음루프때도 유효하게한다."
      ],
      "metadata": {
        "id": "NOLAQj_cc_o2"
      }
    },
    {
      "cell_type": "code",
      "source": [
        "a=LinkedListBasic()\n",
        "print(a.isEmpty())\n",
        "a.insert(0,\"1\")\n",
        "a.insert(1,\"2\")\n",
        "a.append('test')\n",
        "a.append(\"3\")\n",
        "a.append(\"4\")\n",
        "a.append(\"5\")\n",
        "a.append(\"algorithm\")\n",
        "a.printList()\n",
        "print(\"리스트의 사이즈는:\",a.size())\n",
        "a.pop(1,2)\n",
        "a.printList()\n",
        "print(\"리스트의 사이즈는:\",a.size())\n",
        "a.pop(2,2)\n",
        "a.printList()\n",
        "print(\"리스트의 사이즈는:\",a.size())\n",
        "a.pop(0,3)\n",
        "a.printList()\n",
        "print(\"리스트의 사이즈는:\",a.size())\n",
        "print(a.isEmpty())"
      ],
      "metadata": {
        "colab": {
          "base_uri": "https://localhost:8080/"
        },
        "id": "v8jZt6HaEQoa",
        "outputId": "ee81f55c-ac46-472f-9faf-c26be9d8fb0d"
      },
      "execution_count": null,
      "outputs": [
        {
          "output_type": "stream",
          "name": "stdout",
          "text": [
            "True\n",
            "1 2 test 3 4 5 algorithm \n",
            "리스트의 사이즈는: 7\n",
            "1 3 4 5 algorithm \n",
            "리스트의 사이즈는: 5\n",
            "1 3 algorithm \n",
            "리스트의 사이즈는: 3\n",
            "\n",
            "리스트의 사이즈는: 0\n",
            "True\n"
          ]
        }
      ]
    }
  ]
}