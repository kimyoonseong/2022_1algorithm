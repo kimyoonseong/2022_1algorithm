{
  "nbformat": 4,
  "nbformat_minor": 0,
  "metadata": {
    "colab": {
      "name": "kruskal.ipynb",
      "provenance": [],
      "collapsed_sections": []
    },
    "kernelspec": {
      "name": "python3",
      "display_name": "Python 3"
    },
    "language_info": {
      "name": "python"
    }
  },
  "cells": [
    {
      "cell_type": "markdown",
      "source": [
        "source: https://www.pythonpool.com/kruskals-algorithm-python/"
      ],
      "metadata": {
        "id": "fYZWwv_7Zyor"
      }
    },
    {
      "cell_type": "code",
      "execution_count": 1,
      "metadata": {
        "id": "7MqAXhOPZqu6"
      },
      "outputs": [],
      "source": [
        "class Graph:\n",
        "    def __init__(self, vertex):\n",
        "        self.V = vertex\n",
        "        self.graph = []\n",
        " \n",
        "    def add_edge(self, u, v, w):    #u: start vertex; v: end vertex; w: weight\n",
        "        self.graph.append([u, v, w])\n",
        " \n",
        "    def search(self, parent, i):\n",
        "        if parent[i] == i:\n",
        "            return i\n",
        "        return self.search(parent, parent[i])\n",
        " \n",
        "    def apply_union(self, parent, rank, x, y):\n",
        "        xroot = self.search(parent, x)\n",
        "        yroot = self.search(parent, y)\n",
        "        if rank[xroot] < rank[yroot]:\n",
        "            parent[xroot] = yroot\n",
        "        elif rank[xroot] > rank[yroot]:\n",
        "            parent[yroot] = xroot\n",
        "        else:\n",
        "            parent[yroot] = xroot\n",
        "            rank[xroot] += 1\n",
        " \n",
        "  \n",
        "    def kruskal(self):\n",
        "        result = []\n",
        "        i, e = 0, 0\n",
        "        print(\"Before sorting:\", self.graph)\n",
        "        self.graph = sorted(self.graph, key=lambda item: item[2])\n",
        "        print(\"After sorting: \", self.graph)\n",
        "        parent = []\n",
        "        rank = []\n",
        "        for node in range(self.V):\n",
        "            parent.append(node)\n",
        "            rank.append(0)\n",
        "        while e < self.V - 1:\n",
        "            u, v, w = self.graph[i]\n",
        "            i += 1\n",
        "            x = self.search(parent, u)\n",
        "            y = self.search(parent, v)\n",
        "            if x != y:\n",
        "                e += 1\n",
        "                result.append([u, v, w])\n",
        "                self.apply_union(parent, rank, x, y)\n",
        "        for u, v, weight in result:\n",
        "            print(\"Edge:\",u, v,end =\" \")\n",
        "            print(\"-\",weight)\n"
      ]
    },
    {
      "cell_type": "code",
      "source": [
        "g = Graph(5)\n",
        "g.add_edge(0, 1, 8)\n",
        "g.add_edge(0, 2, 5)\n",
        "g.add_edge(1, 2, 9)\n",
        "g.add_edge(1, 3, 11)\n",
        "g.add_edge(2, 3, 15)\n",
        "g.add_edge(2, 4, 10)\n",
        "g.add_edge(3, 4, 7)\n",
        "g.kruskal()"
      ],
      "metadata": {
        "colab": {
          "base_uri": "https://localhost:8080/"
        },
        "id": "4LeJvGH3Z9lT",
        "outputId": "51a772af-233f-448c-8a51-17486e1b4b78"
      },
      "execution_count": 2,
      "outputs": [
        {
          "output_type": "stream",
          "name": "stdout",
          "text": [
            "Before sorting: [[0, 1, 8], [0, 2, 5], [1, 2, 9], [1, 3, 11], [2, 3, 15], [2, 4, 10], [3, 4, 7]]\n",
            "After sorting:  [[0, 2, 5], [3, 4, 7], [0, 1, 8], [1, 2, 9], [2, 4, 10], [1, 3, 11], [2, 3, 15]]\n",
            "Edge: 0 2 - 5\n",
            "Edge: 3 4 - 7\n",
            "Edge: 0 1 - 8\n",
            "Edge: 2 4 - 10\n"
          ]
        }
      ]
    }
  ]
}