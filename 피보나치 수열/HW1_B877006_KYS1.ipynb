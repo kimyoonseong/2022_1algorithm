{
  "nbformat": 4,
  "nbformat_minor": 0,
  "metadata": {
    "colab": {
      "name": "B877006_KYS.ipynb",
      "provenance": [],
      "collapsed_sections": [],
      "toc_visible": true
    },
    "kernelspec": {
      "name": "python3",
      "display_name": "Python 3"
    },
    "language_info": {
      "name": "python"
    }
  },
  "cells": [
    {
      "cell_type": "code",
      "execution_count": 1,
      "metadata": {
        "id": "sqJqTX1-83Cn"
      },
      "outputs": [],
      "source": [
        "# fibonacci sequence 구현  (반복적 방법) 0초 소요\n",
        "def Loopfibo(n):\n",
        "  if n==0:\n",
        "    return 0\n",
        "  elif n==2 or n==1:\n",
        "    return 1\n",
        "  pp,p=0,1\n",
        "  for i in range(n):\n",
        "    pp,p=p,pp+p\n",
        "    \n",
        "  return pp\n",
        "\n",
        "\n"
      ]
    },
    {
      "cell_type": "markdown",
      "source": [
        "C언어로  쉽게 풀어쓴 자료구조 문서를 참고했습니다.\n",
        "result=p+pp       \n",
        "pp=p          \n",
        "p=result 부분을 파이썬식으로 간결하게 수정했습니다"
      ],
      "metadata": {
        "id": "d_T0oIRIh_XM"
      }
    },
    {
      "cell_type": "code",
      "source": [
        "for i in range(1,41):\n",
        "  print(i,\":\",Loopfibo(i))"
      ],
      "metadata": {
        "colab": {
          "base_uri": "https://localhost:8080/"
        },
        "id": "QsUnRwPQZG9Q",
        "outputId": "fc98ce07-91a6-4ec7-98b5-78a988afa05c"
      },
      "execution_count": 2,
      "outputs": [
        {
          "output_type": "stream",
          "name": "stdout",
          "text": [
            "1 : 1\n",
            "2 : 1\n",
            "3 : 2\n",
            "4 : 3\n",
            "5 : 5\n",
            "6 : 8\n",
            "7 : 13\n",
            "8 : 21\n",
            "9 : 34\n",
            "10 : 55\n",
            "11 : 89\n",
            "12 : 144\n",
            "13 : 233\n",
            "14 : 377\n",
            "15 : 610\n",
            "16 : 987\n",
            "17 : 1597\n",
            "18 : 2584\n",
            "19 : 4181\n",
            "20 : 6765\n",
            "21 : 10946\n",
            "22 : 17711\n",
            "23 : 28657\n",
            "24 : 46368\n",
            "25 : 75025\n",
            "26 : 121393\n",
            "27 : 196418\n",
            "28 : 317811\n",
            "29 : 514229\n",
            "30 : 832040\n",
            "31 : 1346269\n",
            "32 : 2178309\n",
            "33 : 3524578\n",
            "34 : 5702887\n",
            "35 : 9227465\n",
            "36 : 14930352\n",
            "37 : 24157817\n",
            "38 : 39088169\n",
            "39 : 63245986\n",
            "40 : 102334155\n"
          ]
        }
      ]
    },
    {
      "cell_type": "markdown",
      "source": [
        "재귀적방법은 57초 소요, 반복적 방법은 0초 소요하였습니다."
      ],
      "metadata": {
        "id": "dAEmJ_0kZw3y"
      }
    }
  ]
}