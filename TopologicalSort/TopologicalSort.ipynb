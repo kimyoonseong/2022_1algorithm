{
  "nbformat": 4,
  "nbformat_minor": 0,
  "metadata": {
    "colab": {
      "name": "TopologicalSort.ipynb",
      "provenance": []
    },
    "kernelspec": {
      "name": "python3",
      "display_name": "Python 3"
    },
    "language_info": {
      "name": "python"
    }
  },
  "cells": [
    {
      "cell_type": "markdown",
      "source": [
        "Slightly modified from source: https://www.techiedelight.com/kahn-topological-sort-algorithm/"
      ],
      "metadata": {
        "id": "zhIj0Dvy7YIA"
      }
    },
    {
      "cell_type": "code",
      "execution_count": 1,
      "metadata": {
        "id": "ElSbwosD2snY"
      },
      "outputs": [],
      "source": [
        "# A class to represent a graph object\n",
        "class Graph:\n",
        " \n",
        "    # stores indegree of a vertex\n",
        "    indegree = None\n",
        " \n",
        "    # Constructor\n",
        "    def __init__(self, edges, n):\n",
        " \n",
        "        # A list of lists to represent an adjacency list\n",
        "        self.adjList = [[] for _ in range(n)]\n",
        " \n",
        "        # initialize indegree of each vertex by 0\n",
        "        self.indegree = [0] * n\n",
        " \n",
        "        # add edges to the directed graph\n",
        "        for (src, dest) in edges:\n",
        " \n",
        "            # add an edge from source to destination\n",
        "            self.adjList[src].append(dest)\n",
        " \n",
        "            # increment in-degree of destination vertex by 1\n",
        "            self.indegree[dest] += 1\n",
        "            \n",
        " \n",
        "# Function to perform a topological sort on a given DAG\n",
        "def doTopologicalSort(graph, n):\n",
        " \n",
        "    # list to store the sorted elements\n",
        "    L = []\n",
        " \n",
        "    # get in-degree information of the graph\n",
        "    indegree = graph.indegree\n",
        " \n",
        "    # Set of all nodes with no incoming edges\n",
        "    S = [i for i in range(n) if indegree[i] == 0]\n",
        " \n",
        "    while S:\n",
        " \n",
        "        # remove the first item from `S`\n",
        "        n = S.pop(0)\n",
        " \n",
        "        # add at the tail of `L`\n",
        "        L.append(n)\n",
        " \n",
        "        for m in graph.adjList[n]:\n",
        " \n",
        "            # remove an edge from `n` to `m` from the graph\n",
        "            indegree[m] -= 1\n",
        " \n",
        "            # if `m` has no other incoming edges, insert `m` into `S`\n",
        "            if indegree[m] == 0:\n",
        "                S.append(m)\n",
        " \n",
        "    # if a graph has edges, then the graph has at least one cycle\n",
        "    for i in range(n):\n",
        "        if indegree[i]:\n",
        "            return None\n",
        " \n",
        "    return L"
      ]
    },
    {
      "cell_type": "code",
      "source": [
        "    # List of graph edges as per the above diagram\n",
        "    edges = [(0, 6), (1, 2), (1, 4), (1, 6), (3, 0), (3, 4), (5, 1), (7, 0), (7, 1)]\n",
        " \n",
        "    # total number of nodes in the graph (labelled from 0 to 7)\n",
        "    n = 8\n",
        " \n",
        "    # build a graph from the given edges\n",
        "    graph = Graph(edges, n)\n",
        " \n",
        "    # Perform topological sort\n",
        "    L = doTopologicalSort(graph, n)\n",
        " \n",
        "    if L:\n",
        "        print(L)    # print topological order\n",
        "    else:\n",
        "        print('Graph has at least one cycle. Topological sorting is not possible.')"
      ],
      "metadata": {
        "colab": {
          "base_uri": "https://localhost:8080/"
        },
        "id": "ZmN86G2S24q6",
        "outputId": "0d85e754-8f8e-4eb8-c543-0c369c0e9027"
      },
      "execution_count": 2,
      "outputs": [
        {
          "output_type": "stream",
          "name": "stdout",
          "text": [
            "[3, 5, 7, 0, 1, 2, 4, 6]\n"
          ]
        }
      ]
    }
  ]
}